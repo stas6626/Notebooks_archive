{
 "cells": [
  {
   "cell_type": "code",
   "execution_count": 51,
   "metadata": {
    "collapsed": false
   },
   "outputs": [
    {
     "data": {
      "text/plain": [
       "'a common interactive use of cat for a single file is to output the content of a file to standard output.\\n'"
      ]
     },
     "execution_count": 51,
     "metadata": {},
     "output_type": "execute_result"
    }
   ],
   "source": [
    "spisok_predlojeniy[2].lower()"
   ]
  },
  {
   "cell_type": "code",
   "execution_count": 44,
   "metadata": {
    "collapsed": false
   },
   "outputs": [],
   "source": [
    "data=open(\"/home/stas/data/cats.txt\")"
   ]
  },
  {
   "cell_type": "code",
   "execution_count": 21,
   "metadata": {
    "collapsed": false
   },
   "outputs": [],
   "source": [
    "spisok_predlojeniy=data.readlines()"
   ]
  },
  {
   "cell_type": "code",
   "execution_count": 5,
   "metadata": {
    "collapsed": false
   },
   "outputs": [
    {
     "ename": "AttributeError",
     "evalue": "'list' object has no attribute 'lower'",
     "output_type": "error",
     "traceback": [
      "\u001b[0;31m---------------------------------------------------------------------------\u001b[0m",
      "\u001b[0;31mAttributeError\u001b[0m                            Traceback (most recent call last)",
      "\u001b[0;32m<ipython-input-5-a24995923ea2>\u001b[0m in \u001b[0;36m<module>\u001b[0;34m()\u001b[0m\n\u001b[0;32m----> 1\u001b[0;31m \u001b[0mf\u001b[0m\u001b[0;34m.\u001b[0m\u001b[0mlower\u001b[0m\u001b[0;34m(\u001b[0m\u001b[0;34m)\u001b[0m\u001b[0;34m\u001b[0m\u001b[0m\n\u001b[0m",
      "\u001b[0;31mAttributeError\u001b[0m: 'list' object has no attribute 'lower'"
     ]
    }
   ],
   "source": [
    "f.lower()"
   ]
  },
  {
   "cell_type": "code",
   "execution_count": null,
   "metadata": {
    "collapsed": false
   },
   "outputs": [],
   "source": [
    "for i in f:\n",
    "    i=i.lower()"
   ]
  },
  {
   "cell_type": "code",
   "execution_count": 23,
   "metadata": {
    "collapsed": false
   },
   "outputs": [],
   "source": [
    "f=data.read()"
   ]
  },
  {
   "cell_type": "code",
   "execution_count": 24,
   "metadata": {
    "collapsed": false
   },
   "outputs": [],
   "source": [
    "f=f.lower()"
   ]
  },
  {
   "cell_type": "code",
   "execution_count": 25,
   "metadata": {
    "collapsed": false
   },
   "outputs": [],
   "source": [
    "import re\n",
    "a=re.split('[^a-z]', f)"
   ]
  },
  {
   "cell_type": "code",
   "execution_count": 28,
   "metadata": {
    "collapsed": false
   },
   "outputs": [],
   "source": [
    "q=[]"
   ]
  },
  {
   "cell_type": "code",
   "execution_count": 29,
   "metadata": {
    "collapsed": false
   },
   "outputs": [],
   "source": [
    "for i in range(0,len(a)):\n",
    "    if not(a[i]==''):\n",
    "        q.append(a[i])\n",
    "        "
   ]
  },
  {
   "cell_type": "code",
   "execution_count": 11,
   "metadata": {
    "collapsed": true
   },
   "outputs": [],
   "source": [
    "a=a.sort()"
   ]
  },
  {
   "cell_type": "code",
   "execution_count": 30,
   "metadata": {
    "collapsed": false
   },
   "outputs": [
    {
     "data": {
      "text/plain": [
       "['in',\n",
       " 'comparison',\n",
       " 'to',\n",
       " 'dogs',\n",
       " 'cats',\n",
       " 'have',\n",
       " 'not',\n",
       " 'undergone',\n",
       " 'major',\n",
       " 'changes',\n",
       " 'during',\n",
       " 'the',\n",
       " 'domestication',\n",
       " 'process',\n",
       " 'as',\n",
       " 'cat',\n",
       " 'simply',\n",
       " 'catenates',\n",
       " 'streams',\n",
       " 'of',\n",
       " 'bytes',\n",
       " 'it',\n",
       " 'can',\n",
       " 'be',\n",
       " 'also',\n",
       " 'used',\n",
       " 'to',\n",
       " 'concatenate',\n",
       " 'binary',\n",
       " 'files',\n",
       " 'where',\n",
       " 'it',\n",
       " 'will',\n",
       " 'just',\n",
       " 'concatenate',\n",
       " 'sequence',\n",
       " 'of',\n",
       " 'bytes',\n",
       " 'a',\n",
       " 'common',\n",
       " 'interactive',\n",
       " 'use',\n",
       " 'of',\n",
       " 'cat',\n",
       " 'for',\n",
       " 'a',\n",
       " 'single',\n",
       " 'file',\n",
       " 'is',\n",
       " 'to',\n",
       " 'output',\n",
       " 'the',\n",
       " 'content',\n",
       " 'of',\n",
       " 'a',\n",
       " 'file',\n",
       " 'to',\n",
       " 'standard',\n",
       " 'output',\n",
       " 'cats',\n",
       " 'can',\n",
       " 'hear',\n",
       " 'sounds',\n",
       " 'too',\n",
       " 'faint',\n",
       " 'or',\n",
       " 'too',\n",
       " 'high',\n",
       " 'in',\n",
       " 'frequency',\n",
       " 'for',\n",
       " 'human',\n",
       " 'ears',\n",
       " 'such',\n",
       " 'as',\n",
       " 'those',\n",
       " 'made',\n",
       " 'by',\n",
       " 'mice',\n",
       " 'and',\n",
       " 'other',\n",
       " 'small',\n",
       " 'animals',\n",
       " 'in',\n",
       " 'one',\n",
       " 'people',\n",
       " 'deliberately',\n",
       " 'tamed',\n",
       " 'cats',\n",
       " 'in',\n",
       " 'a',\n",
       " 'process',\n",
       " 'of',\n",
       " 'artificial',\n",
       " 'selection',\n",
       " 'as',\n",
       " 'they',\n",
       " 'were',\n",
       " 'useful',\n",
       " 'predators',\n",
       " 'of',\n",
       " 'vermin',\n",
       " 'the',\n",
       " 'domesticated',\n",
       " 'cat',\n",
       " 'and',\n",
       " 'its',\n",
       " 'closest',\n",
       " 'wild',\n",
       " 'ancestor',\n",
       " 'are',\n",
       " 'both',\n",
       " 'diploid',\n",
       " 'organisms',\n",
       " 'that',\n",
       " 'possess',\n",
       " 'chromosomes',\n",
       " 'and',\n",
       " 'roughly',\n",
       " 'genes',\n",
       " 'domestic',\n",
       " 'cats',\n",
       " 'are',\n",
       " 'similar',\n",
       " 'in',\n",
       " 'size',\n",
       " 'to',\n",
       " 'the',\n",
       " 'other',\n",
       " 'members',\n",
       " 'of',\n",
       " 'the',\n",
       " 'genus',\n",
       " 'felis',\n",
       " 'typically',\n",
       " 'weighing',\n",
       " 'between',\n",
       " 'and',\n",
       " 'kg',\n",
       " 'and',\n",
       " 'lb',\n",
       " 'however',\n",
       " 'if',\n",
       " 'the',\n",
       " 'output',\n",
       " 'is',\n",
       " 'piped',\n",
       " 'or',\n",
       " 'redirected',\n",
       " 'cat',\n",
       " 'is',\n",
       " 'unnecessary',\n",
       " 'cat',\n",
       " 'with',\n",
       " 'one',\n",
       " 'named',\n",
       " 'file',\n",
       " 'is',\n",
       " 'safer',\n",
       " 'where',\n",
       " 'human',\n",
       " 'error',\n",
       " 'is',\n",
       " 'a',\n",
       " 'concern',\n",
       " 'one',\n",
       " 'wrong',\n",
       " 'use',\n",
       " 'of',\n",
       " 'the',\n",
       " 'default',\n",
       " 'redirection',\n",
       " 'symbol',\n",
       " 'instead',\n",
       " 'of',\n",
       " 'often',\n",
       " 'adjacent',\n",
       " 'on',\n",
       " 'keyboards',\n",
       " 'may',\n",
       " 'permanently',\n",
       " 'delete',\n",
       " 'the',\n",
       " 'file',\n",
       " 'you',\n",
       " 'were',\n",
       " 'just',\n",
       " 'needing',\n",
       " 'to',\n",
       " 'read',\n",
       " 'in',\n",
       " 'terms',\n",
       " 'of',\n",
       " 'legibility',\n",
       " 'a',\n",
       " 'sequence',\n",
       " 'of',\n",
       " 'commands',\n",
       " 'starting',\n",
       " 'with',\n",
       " 'cat',\n",
       " 'and',\n",
       " 'connected',\n",
       " 'by',\n",
       " 'pipes',\n",
       " 'has',\n",
       " 'a',\n",
       " 'clear',\n",
       " 'left',\n",
       " 'to',\n",
       " 'right',\n",
       " 'flow',\n",
       " 'of',\n",
       " 'information',\n",
       " 'cat',\n",
       " 'command',\n",
       " 'is',\n",
       " 'one',\n",
       " 'of',\n",
       " 'the',\n",
       " 'basic',\n",
       " 'commands',\n",
       " 'that',\n",
       " 'you',\n",
       " 'learned',\n",
       " 'when',\n",
       " 'you',\n",
       " 'started',\n",
       " 'in',\n",
       " 'the',\n",
       " 'unix',\n",
       " 'linux',\n",
       " 'world',\n",
       " 'using',\n",
       " 'cat',\n",
       " 'command',\n",
       " 'the',\n",
       " 'lines',\n",
       " 'received',\n",
       " 'from',\n",
       " 'stdin',\n",
       " 'can',\n",
       " 'be',\n",
       " 'redirected',\n",
       " 'to',\n",
       " 'a',\n",
       " 'new',\n",
       " 'file',\n",
       " 'using',\n",
       " 'redirection',\n",
       " 'symbols',\n",
       " 'when',\n",
       " 'you',\n",
       " 'type',\n",
       " 'simply',\n",
       " 'cat',\n",
       " 'command',\n",
       " 'without',\n",
       " 'any',\n",
       " 'arguments',\n",
       " 'it',\n",
       " 'just',\n",
       " 'receives',\n",
       " 'the',\n",
       " 'stdin',\n",
       " 'content',\n",
       " 'and',\n",
       " 'displays',\n",
       " 'it',\n",
       " 'in',\n",
       " 'the',\n",
       " 'stdout',\n",
       " 'leopard',\n",
       " 'was',\n",
       " 'released',\n",
       " 'on',\n",
       " 'october',\n",
       " 'as',\n",
       " 'the',\n",
       " 'successor',\n",
       " 'of',\n",
       " 'tiger',\n",
       " 'version',\n",
       " 'and',\n",
       " 'is',\n",
       " 'available',\n",
       " 'in',\n",
       " 'two',\n",
       " 'editions',\n",
       " 'according',\n",
       " 'to',\n",
       " 'apple',\n",
       " 'leopard',\n",
       " 'contains',\n",
       " 'over',\n",
       " 'changes',\n",
       " 'and',\n",
       " 'enhancements',\n",
       " 'over',\n",
       " 'its',\n",
       " 'predecessor',\n",
       " 'mac',\n",
       " 'os',\n",
       " 'x',\n",
       " 'tiger',\n",
       " 'as',\n",
       " 'of',\n",
       " 'mid',\n",
       " 'some',\n",
       " 'apple',\n",
       " 'computers',\n",
       " 'have',\n",
       " 'firmware',\n",
       " 'factory',\n",
       " 'installed',\n",
       " 'which',\n",
       " 'will',\n",
       " 'no',\n",
       " 'longer',\n",
       " 'allow',\n",
       " 'installation',\n",
       " 'of',\n",
       " 'mac',\n",
       " 'os',\n",
       " 'x',\n",
       " 'leopard',\n",
       " 'since',\n",
       " 'apple',\n",
       " 'moved',\n",
       " 'to',\n",
       " 'using',\n",
       " 'intel',\n",
       " 'processors',\n",
       " 'in',\n",
       " 'their',\n",
       " 'computers',\n",
       " 'the',\n",
       " 'osx',\n",
       " 'community',\n",
       " 'has',\n",
       " 'developed',\n",
       " 'and',\n",
       " 'now',\n",
       " 'also',\n",
       " 'allows',\n",
       " 'mac',\n",
       " 'os',\n",
       " 'x',\n",
       " 'tiger',\n",
       " 'and',\n",
       " 'later',\n",
       " 'releases',\n",
       " 'to',\n",
       " 'be',\n",
       " 'installed',\n",
       " 'on',\n",
       " 'non',\n",
       " 'apple',\n",
       " 'x',\n",
       " 'based',\n",
       " 'computers',\n",
       " 'os',\n",
       " 'x',\n",
       " 'mountain',\n",
       " 'lion',\n",
       " 'was',\n",
       " 'released',\n",
       " 'on',\n",
       " 'july',\n",
       " 'for',\n",
       " 'purchase',\n",
       " 'and',\n",
       " 'download',\n",
       " 'through',\n",
       " 'apple',\n",
       " 's',\n",
       " 'mac',\n",
       " 'app',\n",
       " 'store',\n",
       " 'as',\n",
       " 'part',\n",
       " 'of',\n",
       " 'a',\n",
       " 'switch',\n",
       " 'to',\n",
       " 'releasing',\n",
       " 'os',\n",
       " 'x',\n",
       " 'versions',\n",
       " 'online',\n",
       " 'and',\n",
       " 'every',\n",
       " 'year',\n",
       " 'apple',\n",
       " 'has',\n",
       " 'released',\n",
       " 'a',\n",
       " 'small',\n",
       " 'patch',\n",
       " 'for',\n",
       " 'the',\n",
       " 'three',\n",
       " 'most',\n",
       " 'recent',\n",
       " 'versions',\n",
       " 'of',\n",
       " 'safari',\n",
       " 'running',\n",
       " 'on',\n",
       " 'os',\n",
       " 'x',\n",
       " 'yosemite',\n",
       " 'mavericks',\n",
       " 'and',\n",
       " 'mountain',\n",
       " 'lion',\n",
       " 'the',\n",
       " 'mountain',\n",
       " 'lion',\n",
       " 'release',\n",
       " 'marks',\n",
       " 'the',\n",
       " 'second',\n",
       " 'time',\n",
       " 'apple',\n",
       " 'has',\n",
       " 'offered',\n",
       " 'an',\n",
       " 'incremental',\n",
       " 'upgrade',\n",
       " 'rather',\n",
       " 'than',\n",
       " 'releasing',\n",
       " 'a',\n",
       " 'new',\n",
       " 'cat',\n",
       " 'entirely',\n",
       " 'mac',\n",
       " 'os',\n",
       " 'x',\n",
       " 'mountain',\n",
       " 'lion',\n",
       " 'installs',\n",
       " 'in',\n",
       " 'place',\n",
       " 'so',\n",
       " 'you',\n",
       " 'won',\n",
       " 't',\n",
       " 'need',\n",
       " 'to',\n",
       " 'create',\n",
       " 'a',\n",
       " 'separate',\n",
       " 'disk',\n",
       " 'or',\n",
       " 'run',\n",
       " 'the',\n",
       " 'installation',\n",
       " 'off',\n",
       " 'an',\n",
       " 'external',\n",
       " 'drive',\n",
       " 'the',\n",
       " 'fifth',\n",
       " 'major',\n",
       " 'update',\n",
       " 'to',\n",
       " 'mac',\n",
       " 'os',\n",
       " 'x',\n",
       " 'leopard',\n",
       " 'contains',\n",
       " 'such',\n",
       " 'a',\n",
       " 'mountain',\n",
       " 'of',\n",
       " 'features',\n",
       " 'more',\n",
       " 'than',\n",
       " 'by',\n",
       " 'apple',\n",
       " 's',\n",
       " 'count']"
      ]
     },
     "execution_count": 30,
     "metadata": {},
     "output_type": "execute_result"
    }
   ],
   "source": [
    "q"
   ]
  },
  {
   "cell_type": "code",
   "execution_count": 31,
   "metadata": {
    "collapsed": false
   },
   "outputs": [
    {
     "name": "stdout",
     "output_type": "stream",
     "text": [
      "['in', 'comparison', 'to', 'dogs', '', 'cats', 'have', 'not', 'undergone', 'major', 'changes', 'during', 'the', 'domestication', 'process', '', 'as', 'cat', 'simply', 'catenates', 'streams', 'of', 'bytes', '', 'it', 'can', 'be', 'also', 'used', 'to', 'concatenate', 'binary', 'files', '', 'where', 'it', 'will', 'just', 'concatenate', 'sequence', 'of', 'bytes', '', 'a', 'common', 'interactive', 'use', 'of', 'cat', 'for', 'a', 'single', 'file', 'is', 'to', 'output', 'the', 'content', 'of', 'a', 'file', 'to', 'standard', 'output', '', 'cats', 'can', 'hear', 'sounds', 'too', 'faint', 'or', 'too', 'high', 'in', 'frequency', 'for', 'human', 'ears', '', 'such', 'as', 'those', 'made', 'by', 'mice', 'and', 'other', 'small', 'animals', '', 'in', 'one', '', 'people', 'deliberately', 'tamed', 'cats', 'in', 'a', 'process', 'of', 'artificial', 'selection', '', 'as', 'they', 'were', 'useful', 'predators', 'of', 'vermin', '', 'the', 'domesticated', 'cat', 'and', 'its', 'closest', 'wild', 'ancestor', 'are', 'both', 'diploid', 'organisms', 'that', 'possess', '', '', '', 'chromosomes', 'and', 'roughly', '', '', '', '', '', '', '', 'genes', '', 'domestic', 'cats', 'are', 'similar', 'in', 'size', 'to', 'the', 'other', 'members', 'of', 'the', 'genus', 'felis', '', 'typically', 'weighing', 'between', '', '', 'and', '', '', 'kg', '', '', '', '', '', 'and', '', '', '', '', '', 'lb', '', '', 'however', '', 'if', 'the', 'output', 'is', 'piped', 'or', 'redirected', '', 'cat', 'is', 'unnecessary', '', 'cat', 'with', 'one', 'named', 'file', 'is', 'safer', 'where', 'human', 'error', 'is', 'a', 'concern', '', '', 'one', 'wrong', 'use', 'of', 'the', 'default', 'redirection', 'symbol', '', '', '', '', 'instead', 'of', '', '', '', '', '', 'often', 'adjacent', 'on', 'keyboards', '', 'may', 'permanently', 'delete', 'the', 'file', 'you', 'were', 'just', 'needing', 'to', 'read', '', 'in', 'terms', 'of', 'legibility', '', 'a', 'sequence', 'of', 'commands', 'starting', 'with', 'cat', 'and', 'connected', 'by', 'pipes', 'has', 'a', 'clear', 'left', 'to', 'right', 'flow', 'of', 'information', '', 'cat', 'command', 'is', 'one', 'of', 'the', 'basic', 'commands', 'that', 'you', 'learned', 'when', 'you', 'started', 'in', 'the', 'unix', '', '', 'linux', 'world', '', 'using', 'cat', 'command', '', 'the', 'lines', 'received', 'from', 'stdin', 'can', 'be', 'redirected', 'to', 'a', 'new', 'file', 'using', 'redirection', 'symbols', '', 'when', 'you', 'type', 'simply', 'cat', 'command', 'without', 'any', 'arguments', '', 'it', 'just', 'receives', 'the', 'stdin', 'content', 'and', 'displays', 'it', 'in', 'the', 'stdout', '', 'leopard', 'was', 'released', 'on', 'october', '', '', '', '', '', '', '', '', '', 'as', 'the', 'successor', 'of', 'tiger', '', 'version', '', '', '', '', '', '', '', 'and', 'is', 'available', 'in', 'two', 'editions', '', 'according', 'to', 'apple', '', 'leopard', 'contains', 'over', '', '', '', '', 'changes', 'and', 'enhancements', 'over', 'its', 'predecessor', '', 'mac', 'os', 'x', 'tiger', '', 'as', 'of', 'mid', '', '', '', '', '', '', 'some', 'apple', 'computers', 'have', 'firmware', 'factory', 'installed', 'which', 'will', 'no', 'longer', 'allow', 'installation', 'of', 'mac', 'os', 'x', 'leopard', '', 'since', 'apple', 'moved', 'to', 'using', 'intel', 'processors', 'in', 'their', 'computers', '', 'the', 'osx', '', '', 'community', 'has', 'developed', 'and', 'now', 'also', 'allows', 'mac', 'os', 'x', 'tiger', 'and', 'later', 'releases', 'to', 'be', 'installed', 'on', 'non', 'apple', 'x', '', '', 'based', 'computers', '', 'os', 'x', 'mountain', 'lion', 'was', 'released', 'on', 'july', '', '', '', '', '', '', '', '', '', 'for', 'purchase', 'and', 'download', 'through', 'apple', 's', 'mac', 'app', 'store', '', 'as', 'part', 'of', 'a', 'switch', 'to', 'releasing', 'os', 'x', 'versions', 'online', 'and', 'every', 'year', '', 'apple', 'has', 'released', 'a', 'small', 'patch', 'for', 'the', 'three', 'most', 'recent', 'versions', 'of', 'safari', 'running', 'on', 'os', 'x', 'yosemite', '', 'mavericks', '', 'and', 'mountain', 'lion', '', 'the', 'mountain', 'lion', 'release', 'marks', 'the', 'second', 'time', 'apple', 'has', 'offered', 'an', 'incremental', 'upgrade', '', 'rather', 'than', 'releasing', 'a', 'new', 'cat', 'entirely', '', 'mac', 'os', 'x', 'mountain', 'lion', 'installs', 'in', 'place', '', 'so', 'you', 'won', 't', 'need', 'to', 'create', 'a', 'separate', 'disk', 'or', 'run', 'the', 'installation', 'off', 'an', 'external', 'drive', '', 'the', 'fifth', 'major', 'update', 'to', 'mac', 'os', 'x', '', 'leopard', '', 'contains', 'such', 'a', 'mountain', 'of', 'features', '', '', 'more', 'than', '', '', '', '', 'by', 'apple', 's', 'count', '', '']\n"
     ]
    }
   ],
   "source": [
    "print(a)"
   ]
  },
  {
   "cell_type": "code",
   "execution_count": null,
   "metadata": {
    "collapsed": true
   },
   "outputs": [],
   "source": []
  },
  {
   "cell_type": "code",
   "execution_count": 14,
   "metadata": {
    "collapsed": false
   },
   "outputs": [
    {
     "data": {
      "text/plain": [
       "''"
      ]
     },
     "execution_count": 14,
     "metadata": {},
     "output_type": "execute_result"
    }
   ],
   "source": [
    "f"
   ]
  },
  {
   "cell_type": "code",
   "execution_count": 37,
   "metadata": {
    "collapsed": false
   },
   "outputs": [],
   "source": [
    "vse_slova=q"
   ]
  },
  {
   "cell_type": "code",
   "execution_count": 36,
   "metadata": {
    "collapsed": false
   },
   "outputs": [
    {
     "ename": "NameError",
     "evalue": "name 'vse_slova' is not defined",
     "output_type": "error",
     "traceback": [
      "\u001b[0;31m---------------------------------------------------------------------------\u001b[0m",
      "\u001b[0;31mNameError\u001b[0m                                 Traceback (most recent call last)",
      "\u001b[0;32m<ipython-input-36-e3829fe89d83>\u001b[0m in \u001b[0;36m<module>\u001b[0;34m()\u001b[0m\n\u001b[0;32m----> 1\u001b[0;31m \u001b[0mvse_slova\u001b[0m\u001b[0;34m\u001b[0m\u001b[0m\n\u001b[0m",
      "\u001b[0;31mNameError\u001b[0m: name 'vse_slova' is not defined"
     ]
    }
   ],
   "source": [
    "vse_slova"
   ]
  },
  {
   "cell_type": "code",
   "execution_count": 34,
   "metadata": {
    "collapsed": true
   },
   "outputs": [],
   "source": [
    "spisok_vseh_slov={}"
   ]
  },
  {
   "cell_type": "code",
   "execution_count": 35,
   "metadata": {
    "collapsed": false
   },
   "outputs": [
    {
     "ename": "NameError",
     "evalue": "name 'vse_slova' is not defined",
     "output_type": "error",
     "traceback": [
      "\u001b[0;31m---------------------------------------------------------------------------\u001b[0m",
      "\u001b[0;31mNameError\u001b[0m                                 Traceback (most recent call last)",
      "\u001b[0;32m<ipython-input-35-bbd731930941>\u001b[0m in \u001b[0;36m<module>\u001b[0;34m()\u001b[0m\n\u001b[1;32m      1\u001b[0m \u001b[0me\u001b[0m\u001b[0;34m=\u001b[0m\u001b[0;36m0\u001b[0m\u001b[0;34m\u001b[0m\u001b[0m\n\u001b[0;32m----> 2\u001b[0;31m \u001b[0;32mfor\u001b[0m \u001b[0mi\u001b[0m \u001b[0;32min\u001b[0m \u001b[0mrange\u001b[0m\u001b[0;34m(\u001b[0m\u001b[0;36m0\u001b[0m\u001b[0;34m,\u001b[0m\u001b[0mlen\u001b[0m\u001b[0;34m(\u001b[0m\u001b[0mvse_slova\u001b[0m\u001b[0;34m)\u001b[0m\u001b[0;34m)\u001b[0m\u001b[0;34m:\u001b[0m\u001b[0;34m\u001b[0m\u001b[0m\n\u001b[0m\u001b[1;32m      3\u001b[0m     \u001b[0;32mif\u001b[0m \u001b[0mspisok_vseh_slov\u001b[0m\u001b[0;34m.\u001b[0m\u001b[0mget\u001b[0m\u001b[0;34m(\u001b[0m\u001b[0mvse_slova\u001b[0m\u001b[0;34m[\u001b[0m\u001b[0mi\u001b[0m\u001b[0;34m]\u001b[0m\u001b[0;34m)\u001b[0m\u001b[0;34m==\u001b[0m\u001b[0;32mNone\u001b[0m\u001b[0;34m:\u001b[0m\u001b[0;34m\u001b[0m\u001b[0m\n\u001b[1;32m      4\u001b[0m         \u001b[0mspisok_vseh_slov\u001b[0m\u001b[0;34m[\u001b[0m\u001b[0mvse_slova\u001b[0m\u001b[0;34m[\u001b[0m\u001b[0mi\u001b[0m\u001b[0;34m]\u001b[0m\u001b[0;34m]\u001b[0m\u001b[0;34m=\u001b[0m\u001b[0me\u001b[0m\u001b[0;34m\u001b[0m\u001b[0m\n\u001b[1;32m      5\u001b[0m         \u001b[0me\u001b[0m\u001b[0;34m+=\u001b[0m\u001b[0;36m1\u001b[0m\u001b[0;34m\u001b[0m\u001b[0m\n",
      "\u001b[0;31mNameError\u001b[0m: name 'vse_slova' is not defined"
     ]
    }
   ],
   "source": [
    "e=0\n",
    "for i in range(0,len(vse_slova)):\n",
    "    if spisok_vseh_slov.get(vse_slova[i])==None:\n",
    "        spisok_vseh_slov[vse_slova[i]]=e\n",
    "        e+=1"
   ]
  },
  {
   "cell_type": "code",
   "execution_count": 88,
   "metadata": {
    "collapsed": false
   },
   "outputs": [],
   "source": [
    "spisok_vseh_slov={}"
   ]
  },
  {
   "cell_type": "code",
   "execution_count": 90,
   "metadata": {
    "collapsed": false
   },
   "outputs": [
    {
     "data": {
      "text/plain": [
       "{'a': 33,\n",
       " 'according': 167,\n",
       " 'adjacent': 114,\n",
       " 'allow': 185,\n",
       " 'allows': 196,\n",
       " 'also': 24,\n",
       " 'an': 230,\n",
       " 'ancestor': 77,\n",
       " 'and': 58,\n",
       " 'animals': 61,\n",
       " 'any': 152,\n",
       " 'app': 208,\n",
       " 'apple': 168,\n",
       " 'are': 78,\n",
       " 'arguments': 153,\n",
       " 'artificial': 66,\n",
       " 'as': 14,\n",
       " 'available': 164,\n",
       " 'based': 200,\n",
       " 'basic': 136,\n",
       " 'be': 23,\n",
       " 'between': 95,\n",
       " 'binary': 27,\n",
       " 'both': 79,\n",
       " 'by': 56,\n",
       " 'bytes': 20,\n",
       " 'can': 22,\n",
       " 'cat': 15,\n",
       " 'catenates': 17,\n",
       " 'cats': 4,\n",
       " 'changes': 9,\n",
       " 'chromosomes': 84,\n",
       " 'clear': 130,\n",
       " 'closest': 75,\n",
       " 'command': 135,\n",
       " 'commands': 125,\n",
       " 'common': 34,\n",
       " 'community': 193,\n",
       " 'comparison': 1,\n",
       " 'computers': 178,\n",
       " 'concatenate': 26,\n",
       " 'concern': 107,\n",
       " 'connected': 127,\n",
       " 'contains': 169,\n",
       " 'content': 42,\n",
       " 'count': 253,\n",
       " 'create': 242,\n",
       " 'default': 109,\n",
       " 'delete': 119,\n",
       " 'deliberately': 64,\n",
       " 'developed': 194,\n",
       " 'diploid': 80,\n",
       " 'disk': 244,\n",
       " 'displays': 155,\n",
       " 'dogs': 3,\n",
       " 'domestic': 87,\n",
       " 'domesticated': 73,\n",
       " 'domestication': 12,\n",
       " 'download': 205,\n",
       " 'drive': 248,\n",
       " 'during': 10,\n",
       " 'ears': 52,\n",
       " 'editions': 166,\n",
       " 'enhancements': 171,\n",
       " 'entirely': 235,\n",
       " 'error': 106,\n",
       " 'every': 215,\n",
       " 'external': 247,\n",
       " 'factory': 180,\n",
       " 'faint': 47,\n",
       " 'features': 251,\n",
       " 'felis': 92,\n",
       " 'fifth': 249,\n",
       " 'file': 39,\n",
       " 'files': 28,\n",
       " 'firmware': 179,\n",
       " 'flow': 133,\n",
       " 'for': 37,\n",
       " 'frequency': 50,\n",
       " 'from': 146,\n",
       " 'genes': 86,\n",
       " 'genus': 91,\n",
       " 'has': 129,\n",
       " 'have': 5,\n",
       " 'hear': 44,\n",
       " 'high': 49,\n",
       " 'however': 98,\n",
       " 'human': 51,\n",
       " 'if': 99,\n",
       " 'in': 0,\n",
       " 'incremental': 231,\n",
       " 'information': 134,\n",
       " 'installation': 186,\n",
       " 'installed': 181,\n",
       " 'installs': 236,\n",
       " 'instead': 112,\n",
       " 'intel': 189,\n",
       " 'interactive': 35,\n",
       " 'is': 40,\n",
       " 'it': 21,\n",
       " 'its': 74,\n",
       " 'july': 203,\n",
       " 'just': 31,\n",
       " 'keyboards': 116,\n",
       " 'kg': 96,\n",
       " 'later': 197,\n",
       " 'lb': 97,\n",
       " 'learned': 137,\n",
       " 'left': 131,\n",
       " 'legibility': 124,\n",
       " 'leopard': 157,\n",
       " 'lines': 144,\n",
       " 'linux': 141,\n",
       " 'lion': 202,\n",
       " 'longer': 184,\n",
       " 'mac': 173,\n",
       " 'made': 55,\n",
       " 'major': 8,\n",
       " 'marks': 226,\n",
       " 'mavericks': 224,\n",
       " 'may': 117,\n",
       " 'members': 90,\n",
       " 'mice': 57,\n",
       " 'mid': 176,\n",
       " 'more': 252,\n",
       " 'most': 219,\n",
       " 'mountain': 201,\n",
       " 'moved': 188,\n",
       " 'named': 104,\n",
       " 'need': 241,\n",
       " 'needing': 121,\n",
       " 'new': 148,\n",
       " 'no': 183,\n",
       " 'non': 199,\n",
       " 'not': 6,\n",
       " 'now': 195,\n",
       " 'october': 160,\n",
       " 'of': 19,\n",
       " 'off': 246,\n",
       " 'offered': 229,\n",
       " 'often': 113,\n",
       " 'on': 115,\n",
       " 'one': 62,\n",
       " 'online': 214,\n",
       " 'or': 48,\n",
       " 'organisms': 81,\n",
       " 'os': 174,\n",
       " 'osx': 192,\n",
       " 'other': 59,\n",
       " 'output': 41,\n",
       " 'over': 170,\n",
       " 'part': 210,\n",
       " 'patch': 217,\n",
       " 'people': 63,\n",
       " 'permanently': 118,\n",
       " 'piped': 100,\n",
       " 'pipes': 128,\n",
       " 'place': 237,\n",
       " 'possess': 83,\n",
       " 'predators': 71,\n",
       " 'predecessor': 172,\n",
       " 'process': 13,\n",
       " 'processors': 190,\n",
       " 'purchase': 204,\n",
       " 'rather': 233,\n",
       " 'read': 122,\n",
       " 'received': 145,\n",
       " 'receives': 154,\n",
       " 'recent': 220,\n",
       " 'redirected': 101,\n",
       " 'redirection': 110,\n",
       " 'release': 225,\n",
       " 'released': 159,\n",
       " 'releases': 198,\n",
       " 'releasing': 212,\n",
       " 'right': 132,\n",
       " 'roughly': 85,\n",
       " 'run': 245,\n",
       " 'running': 222,\n",
       " 's': 207,\n",
       " 'safari': 221,\n",
       " 'safer': 105,\n",
       " 'second': 227,\n",
       " 'selection': 67,\n",
       " 'separate': 243,\n",
       " 'sequence': 32,\n",
       " 'similar': 88,\n",
       " 'simply': 16,\n",
       " 'since': 187,\n",
       " 'single': 38,\n",
       " 'size': 89,\n",
       " 'small': 60,\n",
       " 'so': 238,\n",
       " 'some': 177,\n",
       " 'sounds': 45,\n",
       " 'standard': 43,\n",
       " 'started': 139,\n",
       " 'starting': 126,\n",
       " 'stdin': 147,\n",
       " 'stdout': 156,\n",
       " 'store': 209,\n",
       " 'streams': 18,\n",
       " 'successor': 161,\n",
       " 'such': 53,\n",
       " 'switch': 211,\n",
       " 'symbol': 111,\n",
       " 'symbols': 149,\n",
       " 't': 240,\n",
       " 'tamed': 65,\n",
       " 'terms': 123,\n",
       " 'than': 234,\n",
       " 'that': 82,\n",
       " 'the': 11,\n",
       " 'their': 191,\n",
       " 'they': 68,\n",
       " 'those': 54,\n",
       " 'three': 218,\n",
       " 'through': 206,\n",
       " 'tiger': 162,\n",
       " 'time': 228,\n",
       " 'to': 2,\n",
       " 'too': 46,\n",
       " 'two': 165,\n",
       " 'type': 150,\n",
       " 'typically': 93,\n",
       " 'undergone': 7,\n",
       " 'unix': 140,\n",
       " 'unnecessary': 102,\n",
       " 'update': 250,\n",
       " 'upgrade': 232,\n",
       " 'use': 36,\n",
       " 'used': 25,\n",
       " 'useful': 70,\n",
       " 'using': 143,\n",
       " 'vermin': 72,\n",
       " 'version': 163,\n",
       " 'versions': 213,\n",
       " 'was': 158,\n",
       " 'weighing': 94,\n",
       " 'were': 69,\n",
       " 'when': 138,\n",
       " 'where': 29,\n",
       " 'which': 182,\n",
       " 'wild': 76,\n",
       " 'will': 30,\n",
       " 'with': 103,\n",
       " 'without': 151,\n",
       " 'won': 239,\n",
       " 'world': 142,\n",
       " 'wrong': 108,\n",
       " 'x': 175,\n",
       " 'year': 216,\n",
       " 'yosemite': 223,\n",
       " 'you': 120}"
      ]
     },
     "execution_count": 90,
     "metadata": {},
     "output_type": "execute_result"
    }
   ],
   "source": [
    "spisok_vseh_slov"
   ]
  },
  {
   "cell_type": "code",
   "execution_count": 91,
   "metadata": {
    "collapsed": false
   },
   "outputs": [
    {
     "data": {
      "text/plain": [
       "254"
      ]
     },
     "execution_count": 91,
     "metadata": {},
     "output_type": "execute_result"
    }
   ],
   "source": [
    "len(spisok_vseh_slov)"
   ]
  },
  {
   "cell_type": "code",
   "execution_count": 106,
   "metadata": {
    "collapsed": false
   },
   "outputs": [],
   "source": [
    "import numpy as np\n",
    "g=np.array([[1,2],[1,3]])"
   ]
  },
  {
   "cell_type": "code",
   "execution_count": 107,
   "metadata": {
    "collapsed": false
   },
   "outputs": [
    {
     "ename": "IndexError",
     "evalue": "index 3 is out of bounds for axis 0 with size 2",
     "output_type": "error",
     "traceback": [
      "\u001b[0;31m---------------------------------------------------------------------------\u001b[0m",
      "\u001b[0;31mIndexError\u001b[0m                                Traceback (most recent call last)",
      "\u001b[0;32m<ipython-input-107-f0e5a4ee1079>\u001b[0m in \u001b[0;36m<module>\u001b[0;34m()\u001b[0m\n\u001b[0;32m----> 1\u001b[0;31m \u001b[0mg\u001b[0m\u001b[0;34m[\u001b[0m\u001b[0;36m3\u001b[0m\u001b[0;34m]\u001b[0m\u001b[0;34m[\u001b[0m\u001b[0;36m2\u001b[0m\u001b[0;34m]\u001b[0m\u001b[0;34m=\u001b[0m\u001b[0;36m32\u001b[0m\u001b[0;34m\u001b[0m\u001b[0m\n\u001b[0m",
      "\u001b[0;31mIndexError\u001b[0m: index 3 is out of bounds for axis 0 with size 2"
     ]
    }
   ],
   "source": [
    "g[3][2]=32"
   ]
  },
  {
   "cell_type": "code",
   "execution_count": 105,
   "metadata": {
    "collapsed": false
   },
   "outputs": [
    {
     "ename": "IndexError",
     "evalue": "index 1 is out of bounds for axis 0 with size 1",
     "output_type": "error",
     "traceback": [
      "\u001b[0;31m---------------------------------------------------------------------------\u001b[0m",
      "\u001b[0;31mIndexError\u001b[0m                                Traceback (most recent call last)",
      "\u001b[0;32m<ipython-input-105-d72007272df8>\u001b[0m in \u001b[0;36m<module>\u001b[0;34m()\u001b[0m\n\u001b[1;32m      1\u001b[0m \u001b[0;32mfor\u001b[0m \u001b[0mi\u001b[0m \u001b[0;32min\u001b[0m \u001b[0mrange\u001b[0m\u001b[0;34m(\u001b[0m\u001b[0;36m0\u001b[0m\u001b[0;34m,\u001b[0m\u001b[0;36m100\u001b[0m\u001b[0;34m)\u001b[0m\u001b[0;34m:\u001b[0m\u001b[0;34m\u001b[0m\u001b[0m\n\u001b[1;32m      2\u001b[0m     \u001b[0;32mfor\u001b[0m \u001b[0mj\u001b[0m \u001b[0;32min\u001b[0m \u001b[0mrange\u001b[0m\u001b[0;34m(\u001b[0m\u001b[0;36m0\u001b[0m\u001b[0;34m,\u001b[0m\u001b[0;36m100\u001b[0m\u001b[0;34m)\u001b[0m\u001b[0;34m:\u001b[0m\u001b[0;34m\u001b[0m\u001b[0m\n\u001b[0;32m----> 3\u001b[0;31m         \u001b[0mg\u001b[0m\u001b[0;34m[\u001b[0m\u001b[0mi\u001b[0m\u001b[0;34m]\u001b[0m\u001b[0;34m[\u001b[0m\u001b[0mj\u001b[0m\u001b[0;34m]\u001b[0m\u001b[0;34m=\u001b[0m\u001b[0mj\u001b[0m\u001b[0;34m+\u001b[0m\u001b[0mi\u001b[0m\u001b[0;34m\u001b[0m\u001b[0m\n\u001b[0m",
      "\u001b[0;32m/home/stas/anaconda3/lib/python3.6/site-packages/numpy/matrixlib/defmatrix.py\u001b[0m in \u001b[0;36m__getitem__\u001b[0;34m(self, index)\u001b[0m\n\u001b[1;32m    316\u001b[0m \u001b[0;34m\u001b[0m\u001b[0m\n\u001b[1;32m    317\u001b[0m         \u001b[0;32mtry\u001b[0m\u001b[0;34m:\u001b[0m\u001b[0;34m\u001b[0m\u001b[0m\n\u001b[0;32m--> 318\u001b[0;31m             \u001b[0mout\u001b[0m \u001b[0;34m=\u001b[0m \u001b[0mN\u001b[0m\u001b[0;34m.\u001b[0m\u001b[0mndarray\u001b[0m\u001b[0;34m.\u001b[0m\u001b[0m__getitem__\u001b[0m\u001b[0;34m(\u001b[0m\u001b[0mself\u001b[0m\u001b[0;34m,\u001b[0m \u001b[0mindex\u001b[0m\u001b[0;34m)\u001b[0m\u001b[0;34m\u001b[0m\u001b[0m\n\u001b[0m\u001b[1;32m    319\u001b[0m         \u001b[0;32mfinally\u001b[0m\u001b[0;34m:\u001b[0m\u001b[0;34m\u001b[0m\u001b[0m\n\u001b[1;32m    320\u001b[0m             \u001b[0mself\u001b[0m\u001b[0;34m.\u001b[0m\u001b[0m_getitem\u001b[0m \u001b[0;34m=\u001b[0m \u001b[0;32mFalse\u001b[0m\u001b[0;34m\u001b[0m\u001b[0m\n",
      "\u001b[0;31mIndexError\u001b[0m: index 1 is out of bounds for axis 0 with size 1"
     ]
    }
   ],
   "source": [
    "for i in range(0,100):\n",
    "    for j in range(0,100):\n",
    "        g[i][j]=j+i"
   ]
  },
  {
   "cell_type": "code",
   "execution_count": 108,
   "metadata": {
    "collapsed": false
   },
   "outputs": [
    {
     "data": {
      "text/plain": [
       "array([[1, 2],\n",
       "       [1, 3]])"
      ]
     },
     "execution_count": 108,
     "metadata": {},
     "output_type": "execute_result"
    }
   ],
   "source": [
    "g"
   ]
  },
  {
   "cell_type": "code",
   "execution_count": 110,
   "metadata": {
    "collapsed": false
   },
   "outputs": [],
   "source": [
    "?np.matrix"
   ]
  },
  {
   "cell_type": "code",
   "execution_count": 113,
   "metadata": {
    "collapsed": true
   },
   "outputs": [],
   "source": [
    "spisok_predlogeniy=f"
   ]
  },
  {
   "cell_type": "code",
   "execution_count": 122,
   "metadata": {
    "collapsed": false
   },
   "outputs": [
    {
     "ename": "KeyError",
     "evalue": "1",
     "output_type": "error",
     "traceback": [
      "\u001b[0;31m---------------------------------------------------------------------------\u001b[0m",
      "\u001b[0;31mKeyError\u001b[0m                                  Traceback (most recent call last)",
      "\u001b[0;32m<ipython-input-122-07a07c16c1ea>\u001b[0m in \u001b[0;36m<module>\u001b[0;34m()\u001b[0m\n\u001b[1;32m      1\u001b[0m \u001b[0;32mfor\u001b[0m \u001b[0mi\u001b[0m \u001b[0;32min\u001b[0m \u001b[0mspisok_predlogeniy\u001b[0m\u001b[0;34m:\u001b[0m\u001b[0;34m\u001b[0m\u001b[0m\n\u001b[0;32m----> 2\u001b[0;31m     \u001b[0mprint\u001b[0m\u001b[0;34m(\u001b[0m\u001b[0mcount\u001b[0m \u001b[0;34m=\u001b[0m \u001b[0msum\u001b[0m\u001b[0;34m(\u001b[0m\u001b[0;36m1\u001b[0m \u001b[0;32mfor\u001b[0m \u001b[0m_\u001b[0m \u001b[0;32min\u001b[0m \u001b[0mre\u001b[0m\u001b[0;34m.\u001b[0m\u001b[0mfinditer\u001b[0m\u001b[0;34m(\u001b[0m\u001b[0;34mr'\\b%s\\b'\u001b[0m \u001b[0;34m%\u001b[0m \u001b[0mre\u001b[0m\u001b[0;34m.\u001b[0m\u001b[0mescape\u001b[0m\u001b[0;34m(\u001b[0m\u001b[0mspisok_vseh_slov\u001b[0m\u001b[0;34m[\u001b[0m\u001b[0;36m1\u001b[0m\u001b[0;34m]\u001b[0m\u001b[0;34m)\u001b[0m\u001b[0;34m,\u001b[0m \u001b[0mi\u001b[0m\u001b[0;34m)\u001b[0m\u001b[0;34m)\u001b[0m\u001b[0;34m)\u001b[0m\u001b[0;34m\u001b[0m\u001b[0m\n\u001b[0m",
      "\u001b[0;31mKeyError\u001b[0m: 1"
     ]
    }
   ],
   "source": [
    "for i in spisok_predlogeniy:\n",
    "    print(count = sum(1 for _ in re.finditer(r'\\b%s\\b' % re.escape(spisok_vseh_slov[1]), i)))"
   ]
  },
  {
   "cell_type": "code",
   "execution_count": 125,
   "metadata": {
    "collapsed": false
   },
   "outputs": [],
   "source": [
    "spisok_vseh_slov={}"
   ]
  },
  {
   "cell_type": "code",
   "execution_count": 128,
   "metadata": {
    "collapsed": false
   },
   "outputs": [
    {
     "data": {
      "text/plain": [
       "484"
      ]
     },
     "execution_count": 128,
     "metadata": {},
     "output_type": "execute_result"
    }
   ],
   "source": [
    "len(vse_slova)"
   ]
  },
  {
   "cell_type": "code",
   "execution_count": 38,
   "metadata": {
    "collapsed": false
   },
   "outputs": [],
   "source": [
    "vse_slova=set(vse_slova)"
   ]
  },
  {
   "cell_type": "code",
   "execution_count": 39,
   "metadata": {
    "collapsed": false
   },
   "outputs": [
    {
     "data": {
      "text/plain": [
       "254"
      ]
     },
     "execution_count": 39,
     "metadata": {},
     "output_type": "execute_result"
    }
   ],
   "source": [
    "len(vse_slova)"
   ]
  },
  {
   "cell_type": "code",
   "execution_count": 40,
   "metadata": {
    "collapsed": false
   },
   "outputs": [],
   "source": [
    "e=0\n",
    "for i in vse_slova:\n",
    "    spisok_vseh_slov[e]=i\n",
    "    e+=1"
   ]
  },
  {
   "cell_type": "code",
   "execution_count": 41,
   "metadata": {
    "collapsed": false
   },
   "outputs": [
    {
     "data": {
      "text/plain": [
       "{0: 'dogs',\n",
       " 1: 'count',\n",
       " 2: 'piped',\n",
       " 3: 'are',\n",
       " 4: 'lion',\n",
       " 5: 'two',\n",
       " 6: 'app',\n",
       " 7: 'no',\n",
       " 8: 'its',\n",
       " 9: 'default',\n",
       " 10: 'new',\n",
       " 11: 'between',\n",
       " 12: 'redirected',\n",
       " 13: 'small',\n",
       " 14: 'installed',\n",
       " 15: 'intel',\n",
       " 16: 'incremental',\n",
       " 17: 'off',\n",
       " 18: 'keyboards',\n",
       " 19: 'simply',\n",
       " 20: 'connected',\n",
       " 21: 'information',\n",
       " 22: 'weighing',\n",
       " 23: 'arguments',\n",
       " 24: 'when',\n",
       " 25: 'kg',\n",
       " 26: 'any',\n",
       " 27: 'is',\n",
       " 28: 'linux',\n",
       " 29: 'safari',\n",
       " 30: 'to',\n",
       " 31: 'than',\n",
       " 32: 'versions',\n",
       " 33: 'available',\n",
       " 34: 'external',\n",
       " 35: 'use',\n",
       " 36: 'leopard',\n",
       " 37: 'made',\n",
       " 38: 'one',\n",
       " 39: 'enhancements',\n",
       " 40: 'or',\n",
       " 41: 'by',\n",
       " 42: 'store',\n",
       " 43: 'over',\n",
       " 44: 'output',\n",
       " 45: 'comparison',\n",
       " 46: 'deliberately',\n",
       " 47: 'tamed',\n",
       " 48: 'those',\n",
       " 49: 'diploid',\n",
       " 50: 'major',\n",
       " 51: 'standard',\n",
       " 52: 'permanently',\n",
       " 53: 'pipes',\n",
       " 54: 'type',\n",
       " 55: 'marks',\n",
       " 56: 'july',\n",
       " 57: 'factory',\n",
       " 58: 'second',\n",
       " 59: 'concatenate',\n",
       " 60: 'release',\n",
       " 61: 'os',\n",
       " 62: 'often',\n",
       " 63: 'changes',\n",
       " 64: 'starting',\n",
       " 65: 'longer',\n",
       " 66: 'rather',\n",
       " 67: 'used',\n",
       " 68: 'released',\n",
       " 69: 'running',\n",
       " 70: 'receives',\n",
       " 71: 'through',\n",
       " 72: 'sequence',\n",
       " 73: 'they',\n",
       " 74: 'organisms',\n",
       " 75: 'computers',\n",
       " 76: 'human',\n",
       " 77: 'members',\n",
       " 78: 'received',\n",
       " 79: 'left',\n",
       " 80: 'adjacent',\n",
       " 81: 'domesticated',\n",
       " 82: 'cats',\n",
       " 83: 'animals',\n",
       " 84: 'and',\n",
       " 85: 'closest',\n",
       " 86: 'which',\n",
       " 87: 'redirection',\n",
       " 88: 'it',\n",
       " 89: 'flow',\n",
       " 90: 'with',\n",
       " 91: 'possess',\n",
       " 92: 'other',\n",
       " 93: 'useful',\n",
       " 94: 'a',\n",
       " 95: 'domestication',\n",
       " 96: 'apple',\n",
       " 97: 'developed',\n",
       " 98: 'community',\n",
       " 99: 'learned',\n",
       " 100: 'processors',\n",
       " 101: 'mice',\n",
       " 102: 'offered',\n",
       " 103: 'legibility',\n",
       " 104: 'symbol',\n",
       " 105: 'basic',\n",
       " 106: 'were',\n",
       " 107: 'drive',\n",
       " 108: 'x',\n",
       " 109: 'will',\n",
       " 110: 'download',\n",
       " 111: 'according',\n",
       " 112: 'allows',\n",
       " 113: 'delete',\n",
       " 114: 'be',\n",
       " 115: 'on',\n",
       " 116: 'patch',\n",
       " 117: 'commands',\n",
       " 118: 'entirely',\n",
       " 119: 'you',\n",
       " 120: 'switch',\n",
       " 121: 'where',\n",
       " 122: 'genes',\n",
       " 123: 'may',\n",
       " 124: 'vermin',\n",
       " 125: 'instead',\n",
       " 126: 'however',\n",
       " 127: 'allow',\n",
       " 128: 'create',\n",
       " 129: 'now',\n",
       " 130: 'ancestor',\n",
       " 131: 'high',\n",
       " 132: 'yosemite',\n",
       " 133: 'separate',\n",
       " 134: 'read',\n",
       " 135: 'chromosomes',\n",
       " 136: 'interactive',\n",
       " 137: 'mountain',\n",
       " 138: 'cat',\n",
       " 139: 'typically',\n",
       " 140: 'later',\n",
       " 141: 'clear',\n",
       " 142: 'displays',\n",
       " 143: 'moved',\n",
       " 144: 'purchase',\n",
       " 145: 'mavericks',\n",
       " 146: 'as',\n",
       " 147: 'fifth',\n",
       " 148: 'some',\n",
       " 149: 'won',\n",
       " 150: 'online',\n",
       " 151: 'has',\n",
       " 152: 'sounds',\n",
       " 153: 'the',\n",
       " 154: 'terms',\n",
       " 155: 'have',\n",
       " 156: 'unix',\n",
       " 157: 'selection',\n",
       " 158: 'that',\n",
       " 159: 'installs',\n",
       " 160: 'world',\n",
       " 161: 'editions',\n",
       " 162: 'most',\n",
       " 163: 'needing',\n",
       " 164: 'disk',\n",
       " 165: 'ears',\n",
       " 166: 'too',\n",
       " 167: 'more',\n",
       " 168: 'version',\n",
       " 169: 'tiger',\n",
       " 170: 'unnecessary',\n",
       " 171: 'features',\n",
       " 172: 'predators',\n",
       " 173: 'releasing',\n",
       " 174: 'if',\n",
       " 175: 'mid',\n",
       " 176: 'update',\n",
       " 177: 'part',\n",
       " 178: 'stdin',\n",
       " 179: 'contains',\n",
       " 180: 'lb',\n",
       " 181: 'single',\n",
       " 182: 'can',\n",
       " 183: 'based',\n",
       " 184: 'size',\n",
       " 185: 'streams',\n",
       " 186: 'for',\n",
       " 187: 'time',\n",
       " 188: 'upgrade',\n",
       " 189: 'from',\n",
       " 190: 'releases',\n",
       " 191: 'similar',\n",
       " 192: 'firmware',\n",
       " 193: 'catenates',\n",
       " 194: 'files',\n",
       " 195: 'right',\n",
       " 196: 'using',\n",
       " 197: 'without',\n",
       " 198: 'need',\n",
       " 199: 'safer',\n",
       " 200: 'domestic',\n",
       " 201: 'concern',\n",
       " 202: 'artificial',\n",
       " 203: 'symbols',\n",
       " 204: 'was',\n",
       " 205: 'such',\n",
       " 206: 'their',\n",
       " 207: 'year',\n",
       " 208: 'successor',\n",
       " 209: 'undergone',\n",
       " 210: 'wild',\n",
       " 211: 'genus',\n",
       " 212: 'named',\n",
       " 213: 'process',\n",
       " 214: 'people',\n",
       " 215: 'error',\n",
       " 216: 'both',\n",
       " 217: 'since',\n",
       " 218: 'command',\n",
       " 219: 'lines',\n",
       " 220: 'predecessor',\n",
       " 221: 'common',\n",
       " 222: 'an',\n",
       " 223: 'of',\n",
       " 224: 's',\n",
       " 225: 'not',\n",
       " 226: 'binary',\n",
       " 227: 'also',\n",
       " 228: 'frequency',\n",
       " 229: 'three',\n",
       " 230: 'every',\n",
       " 231: 'content',\n",
       " 232: 'so',\n",
       " 233: 'mac',\n",
       " 234: 'october',\n",
       " 235: 'felis',\n",
       " 236: 't',\n",
       " 237: 'installation',\n",
       " 238: 'roughly',\n",
       " 239: 'stdout',\n",
       " 240: 'osx',\n",
       " 241: 'started',\n",
       " 242: 'in',\n",
       " 243: 'place',\n",
       " 244: 'file',\n",
       " 245: 'wrong',\n",
       " 246: 'during',\n",
       " 247: 'faint',\n",
       " 248: 'hear',\n",
       " 249: 'run',\n",
       " 250: 'recent',\n",
       " 251: 'non',\n",
       " 252: 'just',\n",
       " 253: 'bytes'}"
      ]
     },
     "execution_count": 41,
     "metadata": {},
     "output_type": "execute_result"
    }
   ],
   "source": [
    "spisok_vseh_slov"
   ]
  },
  {
   "cell_type": "code",
   "execution_count": 79,
   "metadata": {
    "collapsed": false
   },
   "outputs": [
    {
     "data": {
      "text/plain": [
       "['In comparison to dogs, cats have not undergone major changes during the domestication process.\\n',\n",
       " 'As cat simply catenates streams of bytes, it can be also used to concatenate binary files, where it will just concatenate sequence of bytes.\\n',\n",
       " 'A common interactive use of cat for a single file is to output the content of a file to standard output.\\n',\n",
       " 'Cats can hear sounds too faint or too high in frequency for human ears, such as those made by mice and other small animals.\\n',\n",
       " 'In one, people deliberately tamed cats in a process of artificial selection, as they were useful predators of vermin.\\n',\n",
       " 'The domesticated cat and its closest wild ancestor are both diploid organisms that possess 38 chromosomes and roughly 20,000 genes.\\n',\n",
       " 'Domestic cats are similar in size to the other members of the genus Felis, typically weighing between 4 and 5 kg (8.8 and 11.0 lb).\\n',\n",
       " 'However, if the output is piped or redirected, cat is unnecessary.\\n',\n",
       " 'cat with one named file is safer where human error is a concern - one wrong use of the default redirection symbol \">\" instead of \"<\" (often adjacent on keyboards) may permanently delete the file you were just needing to read.\\n',\n",
       " 'In terms of legibility, a sequence of commands starting with cat and connected by pipes has a clear left-to-right flow of information.\\n',\n",
       " 'Cat command is one of the basic commands that you learned when you started in the Unix / Linux world.\\n',\n",
       " 'Using cat command, the lines received from stdin can be redirected to a new file using redirection symbols.\\n',\n",
       " 'When you type simply cat command without any arguments, it just receives the stdin content and displays it in the stdout.\\n',\n",
       " 'Leopard was released on October 26, 2007 as the successor of Tiger (version 10.4), and is available in two editions.\\n',\n",
       " 'According to Apple, Leopard contains over 300 changes and enhancements over its predecessor, Mac OS X Tiger.\\n',\n",
       " 'As of Mid 2010, some Apple computers have firmware factory installed which will no longer allow installation of Mac OS X Leopard.\\n',\n",
       " 'Since Apple moved to using Intel processors in their computers, the OSx86 community has developed and now also allows Mac OS X Tiger and later releases to be installed on non-Apple x86-based computers.\\n',\n",
       " \"OS X Mountain Lion was released on July 25, 2012 for purchase and download through Apple's Mac App Store, as part of a switch to releasing OS X versions online and every year.\\n\",\n",
       " 'Apple has released a small patch for the three most recent versions of Safari running on OS X Yosemite, Mavericks, and Mountain Lion.\\n',\n",
       " 'The Mountain Lion release marks the second time Apple has offered an incremental upgrade, rather than releasing a new cat entirely.\\n',\n",
       " \"Mac OS X Mountain Lion installs in place, so you won't need to create a separate disk or run the installation off an external drive.\\n\",\n",
       " \"The fifth major update to Mac OS X, Leopard, contains such a mountain of features - more than 300 by Apple's count.\\n\"]"
      ]
     },
     "execution_count": 79,
     "metadata": {},
     "output_type": "execute_result"
    }
   ],
   "source": [
    "spisok_predlojeniy"
   ]
  },
  {
   "cell_type": "code",
   "execution_count": 76,
   "metadata": {
    "collapsed": false
   },
   "outputs": [
    {
     "data": {
      "text/plain": [
       "(22, 254)"
      ]
     },
     "execution_count": 76,
     "metadata": {},
     "output_type": "execute_result"
    }
   ],
   "source": [
    "import numpy as np\n",
    "\n",
    "matrix1=np.array(matrix)\n",
    "np.shape(matrix1)"
   ]
  },
  {
   "cell_type": "code",
   "execution_count": 87,
   "metadata": {
    "collapsed": false
   },
   "outputs": [],
   "source": [
    "import re\n",
    "first=0\n",
    "for i in spisok_predlojeniy:\n",
    "    a = re.split(r'\\W',i)\n",
    "    \n",
    "    for j in range(0,len(spisok_vseh_slov)):\n",
    "        matrix1[first][j]=a.count(spisok_vseh_slov[j] ) # 1\n",
    "    \n",
    "    first+=1#5"
   ]
  },
  {
   "cell_type": "code",
   "execution_count": 95,
   "metadata": {
    "collapsed": false
   },
   "outputs": [
    {
     "name": "stdout",
     "output_type": "stream",
     "text": [
      "22\n"
     ]
    }
   ],
   "source": [
    "print(len(matrix1))\n"
   ]
  },
  {
   "cell_type": "code",
   "execution_count": 98,
   "metadata": {
    "collapsed": false
   },
   "outputs": [
    {
     "name": "stdout",
     "output_type": "stream",
     "text": [
      "0.950186451861\n",
      "0.848089094937\n",
      "1.0\n",
      "0.875965265411\n",
      "1.0\n",
      "0.768674027214\n",
      "0.919935923097\n",
      "0.879903884646\n",
      "0.950186451861\n",
      "0.875965265411\n",
      "0.865465441201\n",
      "0.886772296586\n",
      "0.925875068334\n",
      "0.832751597999\n",
      "0.930662475472\n",
      "0.850559355584\n",
      "0.942168506803\n",
      "0.928388512596\n",
      "0.9327327206\n",
      "0.878954493466\n",
      "0.856777025192\n"
     ]
    }
   ],
   "source": [
    "import scipy.spatial.distance\n",
    "for i in range(1,22):\n",
    "    print(scipy.spatial.distance.cosine(matrix1[0],matrix1[i]))"
   ]
  },
  {
   "cell_type": "code",
   "execution_count": null,
   "metadata": {
    "collapsed": true
   },
   "outputs": [],
   "source": []
  }
 ],
 "metadata": {
  "kernelspec": {
   "display_name": "Python 3",
   "language": "python",
   "name": "python3"
  },
  "language_info": {
   "codemirror_mode": {
    "name": "ipython",
    "version": 3
   },
   "file_extension": ".py",
   "mimetype": "text/x-python",
   "name": "python",
   "nbconvert_exporter": "python",
   "pygments_lexer": "ipython3",
   "version": "3.6.0"
  }
 },
 "nbformat": 4,
 "nbformat_minor": 2
}
