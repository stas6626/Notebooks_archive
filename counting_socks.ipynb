{
 "cells": [
  {
   "cell_type": "code",
   "execution_count": 67,
   "metadata": {},
   "outputs": [],
   "source": [
    "import random\n",
    "import copy\n",
    "import tqdm\n",
    "from joblib import Parallel, delayed\n",
    "%matplotlib inline\n",
    "import matplotlib.pyplot as plt\n",
    "\n",
    "def count(n, sock):\n",
    "    socks = set()\n",
    "    cnt = 0\n",
    "    sock_arr = copy.copy(sock)\n",
    "    while True:\n",
    "        rnd = random.randint(0, n*2-1)\n",
    "        \n",
    "        if sock_arr[rnd] is None:\n",
    "            continue\n",
    "        \n",
    "        if sock_arr[rnd] in socks:\n",
    "            cnt += 1\n",
    "            return cnt\n",
    "        \n",
    "        else:\n",
    "            cnt += 1\n",
    "            socks.add(sock_arr[rnd])\n",
    "            sock_arr[rnd] = None    \n",
    "            \n",
    "def counting(n, tries = 1e5, verbose = False):\n",
    "    sock_arr = [i//2 for i in range(n*2)]\n",
    "    cnt = 0\n",
    "    if verbose:\n",
    "        itereable = tqdm.tqdm_notebook(range(int(round(tries))))\n",
    "    else:\n",
    "        itereable = range(int(round(tries)))\n",
    "    for i in itereable:\n",
    "        cnt += count(n, sock_arr)\n",
    "    return cnt/tries"
   ]
  },
  {
   "cell_type": "code",
   "execution_count": 56,
   "metadata": {},
   "outputs": [
    {
     "data": {
      "application/vnd.jupyter.widget-view+json": {
       "model_id": "d090b75b669b4480b511b40f9120d803",
       "version_major": 2,
       "version_minor": 0
      },
      "text/plain": [
       "HBox(children=(IntProgress(value=0), HTML(value='')))"
      ]
     },
     "metadata": {},
     "output_type": "display_data"
    },
    {
     "name": "stdout",
     "output_type": "stream",
     "text": [
      "\n"
     ]
    }
   ],
   "source": [
    "results = [counting(i, 1e5, verbose=False) for i in tqdm.tqdm_notebook(range(1,101))]"
   ]
  },
  {
   "cell_type": "code",
   "execution_count": 64,
   "metadata": {},
   "outputs": [
    {
     "data": {
      "application/vnd.jupyter.widget-view+json": {
       "model_id": "3305489d00024c8da9d02d26fc038d9a",
       "version_major": 2,
       "version_minor": 0
      },
      "text/plain": [
       "HBox(children=(IntProgress(value=0, max=200), HTML(value='')))"
      ]
     },
     "metadata": {},
     "output_type": "display_data"
    },
    {
     "name": "stdout",
     "output_type": "stream",
     "text": [
      "CPU times: user 1.13 s, sys: 76.1 ms, total: 1.2 s\n",
      "Wall time: 3min 11s\n"
     ]
    }
   ],
   "source": [
    "%%time\n",
    "results = Parallel(n_jobs=8)(delayed(counting)(i) for i in tqdm.tqdm_notebook(range(1,201)))"
   ]
  },
  {
   "cell_type": "code",
   "execution_count": 63,
   "metadata": {},
   "outputs": [
    {
     "data": {
      "application/vnd.jupyter.widget-view+json": {
       "model_id": "0cc4cfc8e5f140d28546ed7a371eaa6f",
       "version_major": 2,
       "version_minor": 0
      },
      "text/plain": [
       "HBox(children=(IntProgress(value=0, max=50), HTML(value='')))"
      ]
     },
     "metadata": {},
     "output_type": "display_data"
    },
    {
     "name": "stdout",
     "output_type": "stream",
     "text": [
      "CPU times: user 1min 8s, sys: 256 ms, total: 1min 8s\n",
      "Wall time: 1min 8s\n"
     ]
    }
   ],
   "source": [
    "%%time\n",
    "results = [counting(i, 1e5, verbose=False) for i in tqdm.tqdm_notebook(range(1,51))]"
   ]
  },
  {
   "cell_type": "code",
   "execution_count": 69,
   "metadata": {},
   "outputs": [
    {
     "data": {
      "application/vnd.jupyter.widget-view+json": {
       "model_id": "1b87f9f22ed34155a42b23258bcaa2a4",
       "version_major": 2,
       "version_minor": 0
      },
      "text/plain": [
       "HBox(children=(IntProgress(value=0, max=200), HTML(value='')))"
      ]
     },
     "metadata": {},
     "output_type": "display_data"
    },
    {
     "name": "stdout",
     "output_type": "stream",
     "text": [
      "CPU times: user 1.14 s, sys: 104 ms, total: 1.25 s\n",
      "Wall time: 5min 55s\n"
     ]
    }
   ],
   "source": [
    "%%time\n",
    "results2 = Parallel(n_jobs=8)(delayed(counting)(i) for i in tqdm.tqdm_notebook(range(201,401)))"
   ]
  },
  {
   "cell_type": "code",
   "execution_count": 70,
   "metadata": {},
   "outputs": [],
   "source": [
    "results.extend(results2)"
   ]
  },
  {
   "cell_type": "code",
   "execution_count": 71,
   "metadata": {},
   "outputs": [
    {
     "data": {
      "text/plain": [
       "[<matplotlib.lines.Line2D at 0x7f3f0d773f60>]"
      ]
     },
     "execution_count": 71,
     "metadata": {},
     "output_type": "execute_result"
    },
    {
     "data": {
      "image/png": "[encoded data removed]",
      "text/plain": [
       "<Figure size 432x288 with 1 Axes>"
      ]
     },
     "metadata": {
      "needs_background": "light"
     },
     "output_type": "display_data"
    }
   ],
   "source": [
    "plt.plot(results)"
   ]
  },
  {
   "cell_type": "code",
   "execution_count": 72,
   "metadata": {
    "scrolled": true
   },
   "outputs": [
    {
     "data": {
      "text/plain": [
       "7.97331"
      ]
     },
     "execution_count": 72,
     "metadata": {},
     "output_type": "execute_result"
    }
   ],
   "source": [
    "results[19]"
   ]
  },
  {
   "cell_type": "code",
   "execution_count": 54,
   "metadata": {},
   "outputs": [
    {
     "data": {
      "application/vnd.jupyter.widget-view+json": {
       "model_id": "a393b179c00e4c9b8ff391c6bb2c0213",
       "version_major": 2,
       "version_minor": 0
      },
      "text/plain": [
       "HBox(children=(IntProgress(value=0, max=10000), HTML(value='')))"
      ]
     },
     "metadata": {},
     "output_type": "display_data"
    },
    {
     "name": "stdout",
     "output_type": "stream",
     "text": [
      "\n"
     ]
    },
    {
     "data": {
      "text/plain": [
       "2.0"
      ]
     },
     "execution_count": 54,
     "metadata": {},
     "output_type": "execute_result"
    }
   ],
   "source": [
    "counting(1, 1e4)"
   ]
  },
  {
   "cell_type": "code",
   "execution_count": null,
   "metadata": {},
   "outputs": [],
   "source": [
    "tqdm.tqdm_notebook()"
   ]
  },
  {
   "cell_type": "code",
   "execution_count": 42,
   "metadata": {},
   "outputs": [
    {
     "name": "stderr",
     "output_type": "stream",
     "text": [
      "\n",
      "  0%|          | 0/1000000 [00:00<?, ?it/s]\u001b[A\n",
      "  1%|          | 10129/1000000 [00:00<00:09, 101282.61it/s]\u001b[A\n",
      "  2%|▏         | 21831/1000000 [00:00<00:09, 105538.54it/s]\u001b[A\n",
      "  3%|▎         | 32865/1000000 [00:00<00:09, 106933.96it/s]\u001b[A\n",
      "  4%|▍         | 44114/1000000 [00:00<00:08, 108540.36it/s]\u001b[A\n",
      "  6%|▌         | 55135/1000000 [00:00<00:08, 109035.02it/s]\u001b[A\n",
      "  7%|▋         | 65374/1000000 [00:00<00:08, 106951.83it/s]\u001b[A\n",
      "  8%|▊         | 76087/1000000 [00:00<00:08, 107004.41it/s]\u001b[A\n",
      "  9%|▊         | 86855/1000000 [00:00<00:08, 107204.39it/s]\u001b[A\n",
      " 10%|▉         | 97741/1000000 [00:00<00:08, 107694.80it/s]\u001b[A\n",
      " 11%|█         | 109945/1000000 [00:01<00:07, 111629.96it/s]\u001b[A\n",
      " 12%|█▏        | 120865/1000000 [00:01<00:08, 109446.91it/s]\u001b[A\n",
      " 13%|█▎        | 132019/1000000 [00:01<00:07, 110065.02it/s]\u001b[A\n",
      " 14%|█▍        | 143498/1000000 [00:01<00:07, 111441.04it/s]\u001b[A\n",
      " 16%|█▌        | 155085/1000000 [00:01<00:07, 112731.36it/s]\u001b[A\n",
      " 17%|█▋        | 167145/1000000 [00:01<00:07, 114979.67it/s]\u001b[A\n",
      " 18%|█▊        | 178688/1000000 [00:01<00:07, 115113.12it/s]\u001b[A\n",
      " 19%|█▉        | 190777/1000000 [00:01<00:06, 116784.82it/s]\u001b[A\n",
      " 20%|██        | 203126/1000000 [00:01<00:06, 118718.27it/s]\u001b[A\n",
      " 22%|██▏       | 215865/1000000 [00:01<00:06, 121189.65it/s]\u001b[A\n",
      " 23%|██▎       | 228000/1000000 [00:02<00:06, 119990.67it/s]\u001b[A\n",
      " 24%|██▍       | 240013/1000000 [00:02<00:06, 119046.23it/s]\u001b[A\n",
      " 25%|██▌       | 251929/1000000 [00:02<00:06, 116242.92it/s]\u001b[A\n",
      " 26%|██▋       | 263576/1000000 [00:02<00:06, 114104.87it/s]\u001b[A\n",
      " 28%|██▊       | 275527/1000000 [00:02<00:06, 115673.60it/s]\u001b[A\n",
      " 29%|██▊       | 287327/1000000 [00:02<00:06, 116324.53it/s]\u001b[A\n",
      " 30%|██▉       | 299410/1000000 [00:02<00:05, 117639.79it/s]\u001b[A\n",
      " 31%|███       | 311651/1000000 [00:02<00:05, 119029.56it/s]\u001b[A\n",
      " 32%|███▏      | 323842/1000000 [00:02<00:05, 119877.65it/s]\u001b[A\n",
      " 34%|███▎      | 335842/1000000 [00:02<00:05, 114138.58it/s]\u001b[A\n",
      " 35%|███▍      | 347322/1000000 [00:03<00:06, 100902.78it/s]\u001b[A\n",
      " 36%|███▌      | 357824/1000000 [00:03<00:06, 102090.82it/s]\u001b[A\n",
      " 37%|███▋      | 369257/1000000 [00:03<00:05, 105478.12it/s]\u001b[A\n",
      " 38%|███▊      | 380707/1000000 [00:03<00:05, 108030.14it/s]\u001b[A\n",
      " 39%|███▉      | 391660/1000000 [00:03<00:05, 108137.22it/s]\u001b[A\n",
      " 40%|████      | 403648/1000000 [00:03<00:05, 111410.77it/s]\u001b[A\n",
      " 42%|████▏     | 415446/1000000 [00:03<00:05, 113300.88it/s]\u001b[A\n",
      " 43%|████▎     | 427357/1000000 [00:03<00:04, 114981.29it/s]\u001b[A\n",
      " 44%|████▍     | 439411/1000000 [00:03<00:04, 116592.09it/s]\u001b[A\n",
      " 45%|████▌     | 451123/1000000 [00:03<00:04, 116749.74it/s]\u001b[A\n",
      " 46%|████▋     | 462831/1000000 [00:04<00:04, 116712.36it/s]\u001b[A\n",
      " 47%|████▋     | 474526/1000000 [00:04<00:05, 101070.48it/s]\u001b[A\n",
      " 49%|████▊     | 485022/1000000 [00:04<00:05, 88169.79it/s] \u001b[A\n",
      " 50%|████▉     | 496811/1000000 [00:04<00:05, 95381.84it/s]\u001b[A\n",
      " 51%|█████     | 508747/1000000 [00:04<00:04, 101496.65it/s]\u001b[A\n",
      " 52%|█████▏    | 519486/1000000 [00:04<00:04, 103194.50it/s]\u001b[A\n",
      " 53%|█████▎    | 530475/1000000 [00:04<00:04, 105112.60it/s]\u001b[A\n",
      " 54%|█████▍    | 542524/1000000 [00:04<00:04, 109296.75it/s]\u001b[A\n",
      " 55%|█████▌    | 554544/1000000 [00:04<00:03, 112352.44it/s]\u001b[A\n",
      " 57%|█████▋    | 566760/1000000 [00:05<00:03, 115124.38it/s]\u001b[A\n",
      " 58%|█████▊    | 578415/1000000 [00:05<00:03, 109612.40it/s]\u001b[A\n",
      " 59%|█████▉    | 589532/1000000 [00:05<00:04, 101456.72it/s]\u001b[A\n",
      " 60%|██████    | 600409/1000000 [00:05<00:03, 103545.07it/s]\u001b[A\n",
      " 61%|██████    | 611696/1000000 [00:05<00:03, 106176.40it/s]\u001b[A\n",
      " 62%|██████▏   | 622944/1000000 [00:05<00:03, 107991.31it/s]\u001b[A\n",
      " 63%|██████▎   | 634109/1000000 [00:05<00:03, 109062.38it/s]\u001b[A\n",
      " 65%|██████▍   | 645090/1000000 [00:05<00:03, 109205.17it/s]\u001b[A\n",
      " 66%|██████▌   | 656560/1000000 [00:05<00:03, 110797.48it/s]\u001b[A\n",
      " 67%|██████▋   | 668360/1000000 [00:06<00:02, 112861.76it/s]\u001b[A\n",
      " 68%|██████▊   | 680302/1000000 [00:06<00:02, 114751.65it/s]\u001b[A\n",
      " 69%|██████▉   | 691813/1000000 [00:06<00:02, 112945.46it/s]\u001b[A\n",
      " 70%|███████   | 703282/1000000 [00:06<00:02, 113462.21it/s]\u001b[A\n",
      " 71%|███████▏  | 714689/1000000 [00:06<00:02, 113643.17it/s]\u001b[A\n",
      " 73%|███████▎  | 726069/1000000 [00:06<00:02, 113133.05it/s]\u001b[A\n",
      " 74%|███████▎  | 737394/1000000 [00:06<00:02, 111482.89it/s]\u001b[A\n",
      " 75%|███████▍  | 748556/1000000 [00:06<00:02, 110873.89it/s]\u001b[A\n",
      " 76%|███████▌  | 760249/1000000 [00:06<00:02, 112623.54it/s]\u001b[A\n",
      " 77%|███████▋  | 771526/1000000 [00:06<00:02, 100186.52it/s]\u001b[A\n",
      " 78%|███████▊  | 781810/1000000 [00:07<00:02, 98837.84it/s] \u001b[A\n",
      " 79%|███████▉  | 792240/1000000 [00:07<00:02, 100413.90it/s]\u001b[A\n",
      " 80%|████████  | 803429/1000000 [00:07<00:01, 103600.08it/s]\u001b[A\n",
      " 81%|████████▏ | 814861/1000000 [00:07<00:01, 106598.45it/s]\u001b[A\n",
      " 83%|████████▎ | 826220/1000000 [00:07<00:01, 108602.98it/s]\u001b[A\n",
      " 84%|████████▍ | 837624/1000000 [00:07<00:01, 110178.67it/s]\u001b[A\n",
      " 85%|████████▍ | 848877/1000000 [00:07<00:01, 110871.53it/s]\u001b[A\n",
      " 86%|████████▌ | 860406/1000000 [00:07<00:01, 112160.89it/s]\u001b[A\n",
      " 87%|████████▋ | 871659/1000000 [00:07<00:01, 111424.97it/s]\u001b[A\n",
      " 88%|████████▊ | 883297/1000000 [00:08<00:01, 112865.38it/s]\u001b[A\n",
      " 89%|████████▉ | 894898/1000000 [00:08<00:00, 113787.16it/s]\u001b[A\n",
      " 91%|█████████ | 906295/1000000 [00:08<00:00, 113037.69it/s]\u001b[A\n",
      " 92%|█████████▏| 917613/1000000 [00:08<00:00, 105215.67it/s]\u001b[A\n",
      " 93%|█████████▎| 928253/1000000 [00:08<00:00, 100154.03it/s]\u001b[A\n",
      " 94%|█████████▍| 939756/1000000 [00:08<00:00, 104195.33it/s]\u001b[A\n",
      " 95%|█████████▌| 951416/1000000 [00:08<00:00, 107629.35it/s]\u001b[A\n",
      " 96%|█████████▋| 963327/1000000 [00:08<00:00, 110833.68it/s]\u001b[A\n",
      " 97%|█████████▋| 974908/1000000 [00:08<00:00, 112279.17it/s]\u001b[A\n",
      " 99%|█████████▊| 986814/1000000 [00:08<00:00, 114229.61it/s]\u001b[A\n",
      "100%|█████████▉| 998521/1000000 [00:09<00:00, 115064.92it/s]\u001b[A\n",
      "100%|██████████| 1000000/1000000 [00:09<00:00, 110278.53it/s]\u001b[A"
     ]
    },
    {
     "data": {
      "text/plain": [
       "5.678396"
      ]
     },
     "execution_count": 42,
     "metadata": {},
     "output_type": "execute_result"
    }
   ],
   "source": [
    "counting(10, 1e6)"
   ]
  }
 ],
 "metadata": {
  "kernelspec": {
   "display_name": "Python 3",
   "language": "python",
   "name": "python3"
  },
  "language_info": {
   "codemirror_mode": {
    "name": "ipython",
    "version": 3
   },
   "file_extension": ".py",
   "mimetype": "text/x-python",
   "name": "python",
   "nbconvert_exporter": "python",
   "pygments_lexer": "ipython3",
   "version": "3.7.1"
  }
 },
 "nbformat": 4,
 "nbformat_minor": 2
}
